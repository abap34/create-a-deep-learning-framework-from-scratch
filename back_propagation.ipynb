{
 "cells": [
  {
   "cell_type": "code",
   "execution_count": 1,
   "metadata": {},
   "outputs": [],
   "source": [
    "import numpy as np"
   ]
  },
  {
   "cell_type": "code",
   "execution_count": 2,
   "metadata": {},
   "outputs": [],
   "source": [
    "def as_array(x):\n",
    "    if np.isscalar(x):\n",
    "        return np.array(x)\n",
    "    return x"
   ]
  },
  {
   "cell_type": "code",
   "execution_count": 3,
   "metadata": {},
   "outputs": [],
   "source": [
    "def as_tuple(x):\n",
    "    if not isinstance(x,tuple):\n",
    "        return (x,)\n",
    "    return x"
   ]
  },
  {
   "cell_type": "code",
   "execution_count": 4,
   "metadata": {},
   "outputs": [],
   "source": [
    "class Variable:\n",
    "    def __init__(self,data):\n",
    "        if data is not None:\n",
    "            if not isinstance(data,np.ndarray):\n",
    "                raise TypeError ('type:',type(data),'is not supported')\n",
    "        self.data = data       # 変数の値の格納場所\n",
    "        self.grad = None\n",
    "        self.creator = None    # 変数の生成元の関数を保持しておく\n",
    "    def set_creator(self,func):\n",
    "        self.creator = func\n",
    "    def backward(self):\n",
    "        if self.grad is None:\n",
    "            self.grad = np.ones_like(self.data)\n",
    "            print('grad is None. create',self.grad)\n",
    "        funcs = [self.creator]\n",
    "        while funcs:\n",
    "            f = funcs.pop()\n",
    "            gys = [output.grad for output in f.outputs]\n",
    "            gxs = f.backward(*gys)\n",
    "            gxs = as_tuple(gxs)\n",
    "            print(f.name +\".backward(\",gys,\") = \",gxs)\n",
    "            if f.name == \"Add\":\n",
    "                print(f.name + '\\'s input is :',f.inputs[0].data ,\"and\",f.inputs[1].data)\n",
    "            else:\n",
    "                print(f.name + '\\'s input is :',f.inputs[0].data)\n",
    "            for x,gx in zip(f.inputs,gxs):\n",
    "                if x.grad is None:\n",
    "                    x.grad = gx\n",
    "                else:\n",
    "                    x.grad = x.grad + gx\n",
    "                if x.creator is not None:        # (x.cretor is None == x が入力変数) なのでそこでストップする\n",
    "                    funcs.append(x.creator)"
   ]
  },
  {
   "cell_type": "code",
   "execution_count": 5,
   "metadata": {},
   "outputs": [],
   "source": [
    "class Function:\n",
    "    def __call__(self,*inputs:Variable) -> Variable:\n",
    "        xs = [x.data for x in inputs]\n",
    "        ys = as_tuple(self.forward(*xs))\n",
    "        outputs = [Variable(as_array(y)) for y in ys]\n",
    "        for output in outputs:\n",
    "            output.set_creator(self)\n",
    "        self.inputs = inputs    # 入力変数を保持しておく\n",
    "        self.outputs = outputs\n",
    "        return outputs if len(outputs) > 1 else outputs[0]   \n",
    "    def forward(self,xs):\n",
    "        raise NotImplementedError()\n",
    "    def backward(self,gys):\n",
    "        raise NotImplementedError()"
   ]
  },
  {
   "cell_type": "code",
   "execution_count": 6,
   "metadata": {},
   "outputs": [],
   "source": [
    "class EXP(Function):\n",
    "    name = \"EXP\"\n",
    "    def forward(self,x):\n",
    "        return np.exp(x)\n",
    "    def backward(self,gy):\n",
    "        return np.exp(self.inputs[0].data) * gy\n",
    "    \n",
    "    \n",
    "def exp(x):\n",
    "    return exp()(x)"
   ]
  },
  {
   "cell_type": "code",
   "execution_count": 7,
   "metadata": {},
   "outputs": [],
   "source": [
    "class Square(Function):\n",
    "    name = \"Square\"\n",
    "    def forward(self,x):\n",
    "        return x ** 2\n",
    "    def backward(self,gy):\n",
    "        return 2 * self.inputs[0].data * gy \n",
    "\n",
    "    \n",
    "def square(x):\n",
    "    return Square()(x)"
   ]
  },
  {
   "cell_type": "code",
   "execution_count": 8,
   "metadata": {},
   "outputs": [],
   "source": [
    "class Add(Function):\n",
    "    name = \"Add\"\n",
    "    def forward(self,x0,x1):\n",
    "        return x0 + x1\n",
    "    def backward(self,gy):\n",
    "        return gy,gy\n",
    "\n",
    "def add(x0,x1):\n",
    "    return Add()(x0,x1)"
   ]
  },
  {
   "cell_type": "code",
   "execution_count": 9,
   "metadata": {},
   "outputs": [
    {
     "name": "stdout",
     "output_type": "stream",
     "text": [
      "grad is None. create 1.0\n",
      "Add.backward( [array(1.)] ) =  (array(1.), array(1.))\n",
      "Add's input is : 4.0 and 9.0\n",
      "Square.backward( [array(1.)] ) =  (6.0,)\n",
      "Square's input is : 3.0\n",
      "Square.backward( [array(1.)] ) =  (4.0,)\n",
      "Square's input is : 2.0\n"
     ]
    }
   ],
   "source": [
    "x = Variable(np.array(2.0))\n",
    "y = Variable(np.array(3.0))\n",
    "z = add(square(x),square(y))\n",
    "z.backward()"
   ]
  },
  {
   "cell_type": "code",
   "execution_count": 10,
   "metadata": {},
   "outputs": [
    {
     "name": "stdout",
     "output_type": "stream",
     "text": [
      "4.0\n",
      "6.0\n",
      "13.0\n"
     ]
    }
   ],
   "source": [
    "print(x.grad)\n",
    "print(y.grad)\n",
    "print(z.data)"
   ]
  },
  {
   "cell_type": "code",
   "execution_count": null,
   "metadata": {},
   "outputs": [],
   "source": []
  }
 ],
 "metadata": {
  "kernelspec": {
   "display_name": "Python 3",
   "language": "python",
   "name": "python3"
  },
  "language_info": {
   "codemirror_mode": {
    "name": "ipython",
    "version": 3
   },
   "file_extension": ".py",
   "mimetype": "text/x-python",
   "name": "python",
   "nbconvert_exporter": "python",
   "pygments_lexer": "ipython3",
   "version": "3.7.2"
  },
  "widgets": {
   "application/vnd.jupyter.widget-state+json": {
    "state": {},
    "version_major": 2,
    "version_minor": 0
   }
  }
 },
 "nbformat": 4,
 "nbformat_minor": 4
}
